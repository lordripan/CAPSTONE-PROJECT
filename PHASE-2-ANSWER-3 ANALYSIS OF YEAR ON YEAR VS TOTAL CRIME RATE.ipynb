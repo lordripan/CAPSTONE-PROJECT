{
 "cells": [
  {
   "cell_type": "code",
   "execution_count": null,
   "id": "31a18262",
   "metadata": {},
   "outputs": [],
   "source": [
    "\"C:\\Users\\OM RAJ PANDEY\\Documents\\YEAR ON YEAR VS TOTAL CRIME RATE.xlsx\""
   ]
  },
  {
   "cell_type": "code",
   "execution_count": 2,
   "id": "4b43e6f5",
   "metadata": {},
   "outputs": [],
   "source": [
    "#Importing libraries\n",
    "import pandas as pd\n",
    "import numpy as np\n",
    "import seaborn as sns\n",
    "import matplotlib.pyplot as plt\n",
    "%matplotlib inline"
   ]
  },
  {
   "cell_type": "code",
   "execution_count": 3,
   "id": "5890d061",
   "metadata": {},
   "outputs": [
    {
     "data": {
      "text/html": [
       "<div>\n",
       "<style scoped>\n",
       "    .dataframe tbody tr th:only-of-type {\n",
       "        vertical-align: middle;\n",
       "    }\n",
       "\n",
       "    .dataframe tbody tr th {\n",
       "        vertical-align: top;\n",
       "    }\n",
       "\n",
       "    .dataframe thead th {\n",
       "        text-align: right;\n",
       "    }\n",
       "</style>\n",
       "<table border=\"1\" class=\"dataframe\">\n",
       "  <thead>\n",
       "    <tr style=\"text-align: right;\">\n",
       "      <th></th>\n",
       "      <th>STATE/UT</th>\n",
       "      <th>YEAR</th>\n",
       "      <th>TOTAL IPC CRIMES</th>\n",
       "    </tr>\n",
       "  </thead>\n",
       "  <tbody>\n",
       "    <tr>\n",
       "      <th>0</th>\n",
       "      <td>ANDHRA PRADESH</td>\n",
       "      <td>2001</td>\n",
       "      <td>130089</td>\n",
       "    </tr>\n",
       "    <tr>\n",
       "      <th>1</th>\n",
       "      <td>ARUNACHAL PRADESH</td>\n",
       "      <td>2001</td>\n",
       "      <td>2342</td>\n",
       "    </tr>\n",
       "    <tr>\n",
       "      <th>2</th>\n",
       "      <td>ASSAM</td>\n",
       "      <td>2001</td>\n",
       "      <td>36877</td>\n",
       "    </tr>\n",
       "    <tr>\n",
       "      <th>3</th>\n",
       "      <td>BIHAR</td>\n",
       "      <td>2001</td>\n",
       "      <td>88432</td>\n",
       "    </tr>\n",
       "    <tr>\n",
       "      <th>4</th>\n",
       "      <td>CHHATTISGARH</td>\n",
       "      <td>2001</td>\n",
       "      <td>38460</td>\n",
       "    </tr>\n",
       "    <tr>\n",
       "      <th>...</th>\n",
       "      <td>...</td>\n",
       "      <td>...</td>\n",
       "      <td>...</td>\n",
       "    </tr>\n",
       "    <tr>\n",
       "      <th>415</th>\n",
       "      <td>D &amp; N HAVELI</td>\n",
       "      <td>2012</td>\n",
       "      <td>318</td>\n",
       "    </tr>\n",
       "    <tr>\n",
       "      <th>416</th>\n",
       "      <td>DAMAN &amp; DIU</td>\n",
       "      <td>2012</td>\n",
       "      <td>239</td>\n",
       "    </tr>\n",
       "    <tr>\n",
       "      <th>417</th>\n",
       "      <td>DELHI UT</td>\n",
       "      <td>2012</td>\n",
       "      <td>54287</td>\n",
       "    </tr>\n",
       "    <tr>\n",
       "      <th>418</th>\n",
       "      <td>LAKSHADWEEP</td>\n",
       "      <td>2012</td>\n",
       "      <td>60</td>\n",
       "    </tr>\n",
       "    <tr>\n",
       "      <th>419</th>\n",
       "      <td>PUDUCHERRY</td>\n",
       "      <td>2012</td>\n",
       "      <td>4281</td>\n",
       "    </tr>\n",
       "  </tbody>\n",
       "</table>\n",
       "<p>420 rows × 3 columns</p>\n",
       "</div>"
      ],
      "text/plain": [
       "              STATE/UT  YEAR  TOTAL IPC CRIMES\n",
       "0       ANDHRA PRADESH  2001            130089\n",
       "1    ARUNACHAL PRADESH  2001              2342\n",
       "2                ASSAM  2001             36877\n",
       "3                BIHAR  2001             88432\n",
       "4         CHHATTISGARH  2001             38460\n",
       "..                 ...   ...               ...\n",
       "415       D & N HAVELI  2012               318\n",
       "416        DAMAN & DIU  2012               239\n",
       "417           DELHI UT  2012             54287\n",
       "418        LAKSHADWEEP  2012                60\n",
       "419         PUDUCHERRY  2012              4281\n",
       "\n",
       "[420 rows x 3 columns]"
      ]
     },
     "execution_count": 3,
     "metadata": {},
     "output_type": "execute_result"
    }
   ],
   "source": [
    "df=pd.read_excel(r\"C:\\Users\\OM RAJ PANDEY\\Documents\\YEAR ON YEAR VS TOTAL CRIME RATE.xlsx\")\n",
    "df.head(421)"
   ]
  },
  {
   "cell_type": "markdown",
   "id": "7eccd4d8",
   "metadata": {},
   "source": [
    "## ANALYSIS OF YEAR ON YEAR TOTAL CRIME RATE \n",
    "### In 2001 total crime incidents are 1769308 in 2002 it is increased by 11022 and reached to 1780330. In 2003 this value decrease by 64210 and reached to 1716120. In 2004 this value increased by 115890 and reached to 1832010. In 2005 this value decreased by 9408 and reached to 1822602. In 2006 this value increased by 55691 and reached to 1878293. In 2007 this value increased by 111380 and reached to 1989673. In 2008 this value increased by 103706 and reached to 2093379. In 2009 this value increased by 27966 and reached 2121345. In 2010 this value increased by 103486 and reached to 2224831. In 2011 this value increased by 100744 and reached 2325575.\n",
    "### In these ten years we see only in two years i.e 2003 and 2005 the trend is decreasing otherwise there is increasin trend."
   ]
  }
 ],
 "metadata": {
  "kernelspec": {
   "display_name": "Python 3 (ipykernel)",
   "language": "python",
   "name": "python3"
  },
  "language_info": {
   "codemirror_mode": {
    "name": "ipython",
    "version": 3
   },
   "file_extension": ".py",
   "mimetype": "text/x-python",
   "name": "python",
   "nbconvert_exporter": "python",
   "pygments_lexer": "ipython3",
   "version": "3.9.12"
  }
 },
 "nbformat": 4,
 "nbformat_minor": 5
}
