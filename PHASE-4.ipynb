{
 "cells": [
  {
   "cell_type": "markdown",
   "id": "6dc31ad2",
   "metadata": {},
   "source": [
    "## ANSWER-4.1"
   ]
  },
  {
   "cell_type": "markdown",
   "id": "7899082b",
   "metadata": {},
   "source": [
    "### According to the National Crime Records Bureau (NCRB), which is a government agency that collects and analyzes crime data in India, the most sensitive districts of crime in India according to 2001 NCRB data to 2011 NCRB data are:\n",
    "\n",
    "####  Delhi: The capital city had the highest crime rate (per lakh population) among all the states and union territories in both 2001 and 2011, with 381.6 and 479.3 respectively12.\n",
    "#### Mumbai: The financial hub of India had the highest number of crimes (absolute) among all the metropolitan cities in both 2001 and 2011, with 62,534 and 63,161 respectively12.\n",
    "#### Uttar Pradesh: The most populous state in India had the highest number of crimes (absolute) among all the states and union territories in both 2001 and 2011, with 2,41,920 and 2,23,443 respectively12.\n",
    "#### Bihar: The eastern state had the highest crime rate (per lakh population) among all the states and union territories for violent crimes in both 2001 and 2011, with 41.4 and 33.8 respectively12.\n",
    "#### Madhya Pradesh: The central state had the highest crime rate (per lakh population) among all the states and union territories for crimes against women in both 2001 and 2011, with 16.8 and 18.9 respectively12.\n",
    "#### These are some of the districts that have been reported as having high crime rates in India according to the NCRB data from 2001 to 2011. "
   ]
  },
  {
   "cell_type": "markdown",
   "id": "942f15b9",
   "metadata": {},
   "source": [
    "### According to the National Crime Records Bureau (NCRB), which is a government agency that collects and analyzes crime data in India, the most moderate districts of crime in India according to 2001 NCRB data to 2011 NCRB data are:\n",
    "\n",
    "#### Nagaland: The northeastern state had the lowest crime rate (per lakh population) among all the states and union territories in both 2001 and 2011, with 44.4 and 67.2 respectively12.\n",
    "#### Lakshadweep: The island territory had the lowest number of crimes (absolute) among all the states and union territories in both 2001 and 2011, with 20 and 16 respectively12.\n",
    "#### D&N Haveli and Daman & Diu: The merged union territory had the lowest crime rate (per lakh population) among all the metropolitan cities in both 2001 and 2011, with 0.0 and 0.0 respectively12.\n",
    "#### Coimbatore: The southern city had the lowest number of crimes (absolute) among all the metropolitan cities in both 2001 and 2011, with 3,388 and 3,128 respectively12.\n",
    "#### Sikkim: The Himalayan state had the lowest crime rate (per lakh population) among all the states and union territories for violent crimes in both 2001 and 2011, with 8.9 and 9.5 respectively12.\n",
    "#### Himachal Pradesh: The northern state had the lowest crime rate (per lakh population) among all the states and union territories for crimes against women in both 2001 and 2011, with 3.8 and 4.7 respectively12.\n",
    "#### These are some of the districts that have been reported as having moderate crime rates in India according to the NCRB data from 2001 to 2011. "
   ]
  },
  {
   "cell_type": "markdown",
   "id": "0a22fba5",
   "metadata": {},
   "source": [
    "### Among metropolitan cities Kolkata was the safest city. After Kolkata, Pune and Hyderabad had the lowest crime rates in per 1 lakh urban population. Among 19 cities with more than two milion ihabitants in India. While alomst all major cities have historicaly had a crime rate higher than that of their domain states. Kolkata and Mumbai  have been the only mega cities to have a lower crime rate than their states, West Bengal and Maharashtra respectiely. Among other metropolises, Kozhikode and Pune were the ony ones to have a lower crime rate than their states. It is generally acknowledged that cities have a greater propensity to crime and that megacities have have a higher crime rate than smaler cities."
   ]
  },
  {
   "cell_type": "markdown",
   "id": "d55f2928",
   "metadata": {},
   "source": [
    "## ANSWER-4.3-ANALYSATION OF CRIME DATA\n",
    "### Relation of crime rate with socio-economic variables\n",
    "#### It is important to find out how much socio economic variables impacts the crime in the economy. Are these socio economic variables determining the crime in the society? Do these variables contribute any role in the determination of crime rate in the economy or is there any relationship between these variables and the different crime heads in India? The answer of these questions is very important.\n",
    "#### Table  represents the overall picture about the relation of selected crime heads with selected socioeconomic variables like literacy, sex ratio, unemployment rate, urbanization rate and poverty (percentage of poor in total population). This table mention the index value of the entire socioeconomic variables because it will help us to known about the degree of impact of all socioeconomic variables together on crime rate in India and also provide a better picture about the relationship between socioeconomic variables and the crime in India. The highest value of index found in Delhi (i.e. 2.32) and crime rate (number of crimes committed per 1, 00,000 population) of this state was 318.5 which were second highest among the sixteen states. The rate of Kidnapping & Abduction and Property crimes were highest in the state of Delhi. This is shows us that socioeconomic variable has a strong effect on the crime. Among the states, Delhi has most urbanization state but the property crime in Delhi was also highest. Does this shows that more urbanization lead to more crime? Over the last decade, the rate of Kidnapping & Abduction has raised in Delhi. On the other hand, the highest crime rate was observed in Kerala and the index value of this state is (1.58) which is second highest. In this state Literacy played an important role due to more awareness among people, the number of reporting are higher in Kerala (Even little crimes are reported in Kerala because of growing citizen rights awareness). A study done by (Kumari, 2001), states that Kerala has a high rate of charge sheets; it lags behind India in convicting the crimes against women. When the strength of police was analyzed it was found that in Kerala policemen have to deal with more number of cases than overall in India. The high work load of the police could be one of the reasons for Kerala's lower conviction rate and better women's status with educational background, may be the reason for the high number of reported cases of crime in Kerala. The female literacy are also higher in this state which represent that awareness of female population is also higher as compared to other states where female population generally not known about their rights. That is number of reporting rape cases also higher as compared to others states. A research study conducted by Chandrika, ., on sexual harassment at the workplace as a part of the study for SAKSHI, an NGO in New Delhi found that 95 percent of the women felt that there was prevalence of sexual harassment at the work place in Kerala. The state like Uttar Pradesh where crime rate was observed only 97.8 per one lakh person in 2011 shows that the lowest crime state in India. This doesn't mean that crime in UP were very less but numbers of reporting were very less due to less awareness of the people. The literacy rate in UP only was 69.72 due to which people doesn't report the crime specially crime against women. The poverty and unemployment were responsible in the increasing crimes incidence in UP. Earlier tables of states contribution of different crime heads in total IPC crime in India also shown that the contribution of UP in murder and kidnapping & abduction was the highest and in other crimes not too much behind in 2011. It shows that people are more involved in illegal activities rather than legal because of lack of opportunities and also because of less awareness. Similarly in Bihar where the literacy rate was only (63 per cent) and the poor percentage was (24 per cent) in 2011 which was the lowest as compared to other states. The index has also shown that socio economic variable affects overall crimes in Bihar. The crime rate was observed 131 per lakh population in Bihar which is again least reported number of cases but again socio economic variable are responsible in determination of different crimes rate. The low level of urbanization found as per the data in Bihar and crime rate is also lower in Bihar (as compared to Delhi). Bihar contributed second highest in all India murder which shown a major part of India from where murder incidence were reported but in other crime the reporting were very less that is why crime rate were lower in Bihar. On the other hand, unemployment rate played crucial role in the determination of crime in Bihar the unemployment rate was 2.1 in 2001 and the crime rate was 106 per lakh persons but in 2011 there was major increase in the crime rate and unemployment rate (3.2) which shows there is positive relationship between crime rate and unemployment. The lacking of opportunities pushes people into the illegal work such as kidnapping and abduction and the Property crimes like theft etc. The rate of kidnapping & abduction and theft were considerably increases over the last decade in Bihar. In Madhya Pradesh , crime rate was 299 per lakh population in 2011 and 301 in 2001 there was minor decline in rate in last decade but there was major decline found in the burglary and theft. On the other hand literacy rate has gone up from 63 per cent (2001) to 70 per cent in 2011 but there is increase in the unemployment rate from 0.9 to 1.5. The highest rape rate found in this state (4.7) which clearly shown the awareness doesn't reduce the rape incidence even in Kerala where the literacy was highest, also reported larger numbers of rape cases. It means awareness doesn't reduce the amount of rape cases. But urbanization level raises the opportunities of the illegal work; the urbanization rate in MP was 28 per cent in 2011. Theories suggest that urbanization is good for promoting growth of industries and development in the economy. The other face of this urbanization may be the encouragement of crimes as well, since, crimes normally occur in large cities and in urbanized areas (Krivo & Peterson). In rural areas, due to lower population density, criminal persons have less chance of hiding themselves because people know each other. The opposite is true for urban areas. The main facts of crimes in urban areas are the fewer chances of arrest and recognition (Glaeser & Sacerdote). So it is argued that as urbanization increases so does crime (Galvin & Gaviria, 2002). The pattern in our study has also similar to other study where in the state like Delhi has shown higher crime rate in comparisons to UP and MP (lower urban areas). In Gujarat, the states who have shown highest employment rate found lower crime rate as compared to other states. The literacy rate was 80 per cent in 2011 and poverty ratio was 16 per cent. The crime rate was not influenced in last decade and also shown a declining trend of different crime heads with improvement of the socio economic conditions. But state like Haryana where the murder rate was found highest (4.2) in comparison of other states, awareness doesn't too much influence the crime rate specially crime against property. The crime rate in Haryana was considerably raising even rate of selected different crime heads like murder, rape, K & A, burglary and theft also shown upward trends during last decades. But on the other hand, literacy level has gone up over the period of time. The percent contribution of property crime in total India property crimes in the last decade in Haryana was continually gone up. In a nutshell, socio economic factors play key contributory role in explaining crime trends in India in general and across states in particular. However, it cannot be ignored that the crime figures provided by NCRB may not as close to the reality as it should be given the nature of reporting in India. It cannot be debunked that the crimes that are most frequently occurring in our society like rape, sexual harassment etc are often seen as social stigma and hence are under reported by the victims.\n",
    "### As we see in observation in most of the states crime events and literacy rate both are increased between 2001 and 2011. Some factors are responsible for this:\n",
    "#### As literacy increases peoples are aware about their rights  and number of FIRs registered are increases which increase the number of events in data.\n",
    "#### As literacy increases but if number of jobs in private and Govt. sectors are not increases then peoples are involved in illegal activities.\n",
    "#### As in our country most of the people belongs to below middle class and technical, management and health education are costly for them so they are graduate from arts subjects. This trend increase the data of literacy but jobs available in arts field  are highly competitive so these students are going to be unemployed in most of the time of their life, this condition increases the probablity of involving them in illegal activities.\n",
    "#### One of the trend we see that if a person in involved in illegal activities in condition of any circumstances and he is convicted to jail, then his carrier is also breakes not only for Govt. jobs but also for good private jobs so the probablity of this person in returning in crime field is increases.\n",
    "#### Data shows that most of people involved in illegal activities are less literate or illetrate.But Litrate criminals are more dangerous for the society like Harshad mehta, Ketan parikh etc. Shiv Kheda says an illetrate theif theft some thing from a rail, but a literate thief theft the railway track.\n",
    "#### As literacy increases but if opportunities are not available in local areas so people are going in metropoliton cities for good opportunities this makes people vulnarable. One of reason is that their local people thinks they grabed their opportunities.\n",
    "#### In metropoliton cities where womens are comes for jobs and when they are doing their night shifts they are easily assaulted by criminals because literacy gives you knowledge which helps in earning money but not the security.\n",
    "#### In north eastern region one of reason of raising crime graph is AFSPA. Assult cases against womens are done by armed forces. Hence literacy rate is also increases so rate of filing complaint also increases.\n",
    "#### In Kerala literacy rate is very high but crime cases are also high and so on rate of conviction of criminals is also high. The reson is simple lack of opportunities in comparison to literate people and one of the reason i think that their is marksist govt. and according to Marks philosophy 'power origin comes from guns bullet' so police is high powered this raise the peoples involved in normal crimes are also urrested which breakes their image in society and carrier so problity of these person's for returning in illegal activities is high.\n",
    "#### In Rajasthan and Haryana region cultural and social trend are also responsible for increasing crime against womens because of that killed girl child at birth, child marriage and if a girl/women is literate and she is raising voice against socio/cultural trend then she face the anger of society in face of honour killing.\n",
    "#### In Bihar and UP in lower and upper middle class their is a society trend they are preparing for high prestigious govt. jobs like IAS and PCS, hence these jobs are highly competitive and seats are limited so most of the students are getting unemployed in the productive time of their life, so on these students are highly educated so they want to show their talent, and therefore age for small jobs are gone so the chances of moving them in illegal activities are also increases that we seen in Apahran movie.\n",
    "#### In Chattisgarh, Jharkhand, MP, West Bengal there are so many tribal peoples now days they are educated but according to their culturel trend they are highly attached withe their geographical environment and if govt. wants to use their lands and forest for industrial purpose they fight with govt. peoples for their 'jal, jungle, zameen'(water, forest, land), so their conflicts with armed forces increases.\n",
    "## Conclusion:\n",
    "### Proper and fair investigation should be done by police persons because so much bogus complaints are registered by people.\n",
    "### Expand the economic infrastructure which is based on local area circumstances like social, economical, geographical, political it also mentioned in the directive principles of our constitution and it is also vision of Mahatama Gandhi.\n",
    "### Education loan facility should be easily available to every student for higher studies and repayment policy is also based on their degree after job income.\n",
    "### Age of high post comptetive exam should be reduced it saves the importent productive year of students.\n",
    "### If people's who are involved in low level crime then after their punishment make the way for them from which they return to the society with clean image that means due to their punishment  their carrier is not breakdown atleast.\n",
    "### Moral values are also add with education which teach people how to live in society and how to perform in any circumstance.\n",
    "### Make police men behaviour people's friendly, so people feel  police men's are not here for ruling them but they are for their security, this habit is being practised in developed nation and due to this most of the crime are handled before they happen because police get the information from local peoples of any suspecious activity this reduces the crime graph.\n",
    "### Goverment should also take help of khap panchayt and religious guru's in spreading scientific proved modern thoughts like women's marriage age >18 is in the favour of mother and child, and literacy and women's participation in economic activities make the women's strong and this is in the favour of men's also because it reduces the men's financial, educational and security burden of running their family\n",
    "### Proper and fair investigation should be done in case of tribal assaults against armed forces also and most importent govt. should watch carefully that policies made by them for tribal persons and their property rights are properly implemented or not, this step increase the trust of tribal people on goverment and also industrial activities are done on barren land or any other place not in the place of dense forest and agricultural land.\n"
   ]
  },
  {
   "cell_type": "code",
   "execution_count": null,
   "id": "982cf5e9",
   "metadata": {},
   "outputs": [],
   "source": []
  }
 ],
 "metadata": {
  "kernelspec": {
   "display_name": "Python 3 (ipykernel)",
   "language": "python",
   "name": "python3"
  },
  "language_info": {
   "codemirror_mode": {
    "name": "ipython",
    "version": 3
   },
   "file_extension": ".py",
   "mimetype": "text/x-python",
   "name": "python",
   "nbconvert_exporter": "python",
   "pygments_lexer": "ipython3",
   "version": "3.9.12"
  }
 },
 "nbformat": 4,
 "nbformat_minor": 5
}
