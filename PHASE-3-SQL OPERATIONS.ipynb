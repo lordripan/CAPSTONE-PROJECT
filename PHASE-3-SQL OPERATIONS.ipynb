{
 "cells": [
  {
   "cell_type": "markdown",
   "id": "f0083a1a",
   "metadata": {},
   "source": [
    "## ANSWER-3.2-The highest number of rapes incidents are happened IN WEST BENGAL IN MURSHIDABAD DISTRICT IN 2009 i.e 568\n",
    "### sql querry SELECT * FROM WOMEN ORDER BY RAPE DESC;"
   ]
  },
  {
   "cell_type": "markdown",
   "id": "53e2ce5f",
   "metadata": {},
   "source": [
    "## ANSWER-3.5- The highest no. of dacoity incidents happened in Gujrat(Dahod district) in 2004 are 29.\n",
    "### sql querry-select * from omdb.tribe order by dacoity desc\n",
    "## The highest no. of robbery incidents happened in Gujrat(Dahod district) in 2001 are 32\n",
    "### sql querry-select * from omdb.tribe order by robbry desc"
   ]
  },
  {
   "cell_type": "markdown",
   "id": "9871032f",
   "metadata": {},
   "source": [
    "## ANSWER-3.6-sql querry to find the districts in which all the lowest no. of murder happened-select * from tribe where murder = 0;"
   ]
  },
  {
   "cell_type": "markdown",
   "id": "9265b757",
   "metadata": {},
   "source": [
    "## ANSWER-3.7-sql querry to find the number of murder in ascending order in district and yearwise-select district, year, murder from tribe order by murder asc;"
   ]
  },
  {
   "cell_type": "markdown",
   "id": "2b92f875",
   "metadata": {},
   "source": [
    "## ANSWER-3.8.2-sql querry to in which state/ut, district, year maximum murder happened-select state,district,year,max(murder) from crime group by state;"
   ]
  },
  {
   "cell_type": "markdown",
   "id": "a7daa11e",
   "metadata": {},
   "source": [
    "## ANSWER-3.8.3-Store the above date in a data frame"
   ]
  },
  {
   "cell_type": "code",
   "execution_count": 1,
   "id": "4b4782e4",
   "metadata": {},
   "outputs": [],
   "source": [
    "import numpy as np\n",
    "import pandas as pd"
   ]
  },
  {
   "cell_type": "code",
   "execution_count": 2,
   "id": "dc274feb",
   "metadata": {},
   "outputs": [
    {
     "data": {
      "text/html": [
       "<div>\n",
       "<style scoped>\n",
       "    .dataframe tbody tr th:only-of-type {\n",
       "        vertical-align: middle;\n",
       "    }\n",
       "\n",
       "    .dataframe tbody tr th {\n",
       "        vertical-align: top;\n",
       "    }\n",
       "\n",
       "    .dataframe thead th {\n",
       "        text-align: right;\n",
       "    }\n",
       "</style>\n",
       "<table border=\"1\" class=\"dataframe\">\n",
       "  <thead>\n",
       "    <tr style=\"text-align: right;\">\n",
       "      <th></th>\n",
       "      <th>state</th>\n",
       "      <th>district</th>\n",
       "      <th>saal</th>\n",
       "      <th>murder</th>\n",
       "      <th>attempt to murder</th>\n",
       "      <th>rape</th>\n",
       "      <th>num</th>\n",
       "    </tr>\n",
       "  </thead>\n",
       "  <tbody>\n",
       "    <tr>\n",
       "      <th>0</th>\n",
       "      <td>UTTAR PRADESH</td>\n",
       "      <td>TOTAL</td>\n",
       "      <td>2001</td>\n",
       "      <td>7601</td>\n",
       "      <td>7964</td>\n",
       "      <td>1958</td>\n",
       "      <td>651</td>\n",
       "    </tr>\n",
       "    <tr>\n",
       "      <th>1</th>\n",
       "      <td>UTTAR PRADESH</td>\n",
       "      <td>TOTAL</td>\n",
       "      <td>2002</td>\n",
       "      <td>6825</td>\n",
       "      <td>6283</td>\n",
       "      <td>1415</td>\n",
       "      <td>1367</td>\n",
       "    </tr>\n",
       "    <tr>\n",
       "      <th>2</th>\n",
       "      <td>UTTAR PRADESH</td>\n",
       "      <td>TOTAL</td>\n",
       "      <td>2004</td>\n",
       "      <td>6126</td>\n",
       "      <td>5580</td>\n",
       "      <td>1397</td>\n",
       "      <td>2825</td>\n",
       "    </tr>\n",
       "    <tr>\n",
       "      <th>3</th>\n",
       "      <td>UTTAR PRADESH</td>\n",
       "      <td>TOTAL</td>\n",
       "      <td>2005</td>\n",
       "      <td>5711</td>\n",
       "      <td>5637</td>\n",
       "      <td>1217</td>\n",
       "      <td>3558</td>\n",
       "    </tr>\n",
       "    <tr>\n",
       "      <th>4</th>\n",
       "      <td>UTTAR PRADESH</td>\n",
       "      <td>TOTAL</td>\n",
       "      <td>2006</td>\n",
       "      <td>5480</td>\n",
       "      <td>4997</td>\n",
       "      <td>1314</td>\n",
       "      <td>4298</td>\n",
       "    </tr>\n",
       "  </tbody>\n",
       "</table>\n",
       "</div>"
      ],
      "text/plain": [
       "           state district  saal  murder  attempt to murder  rape   num\n",
       "0  UTTAR PRADESH    TOTAL  2001    7601               7964  1958   651\n",
       "1  UTTAR PRADESH    TOTAL  2002    6825               6283  1415  1367\n",
       "2  UTTAR PRADESH    TOTAL  2004    6126               5580  1397  2825\n",
       "3  UTTAR PRADESH    TOTAL  2005    5711               5637  1217  3558\n",
       "4  UTTAR PRADESH    TOTAL  2006    5480               4997  1314  4298"
      ]
     },
     "execution_count": 2,
     "metadata": {},
     "output_type": "execute_result"
    }
   ],
   "source": [
    "df=pd.read_csv(r\"C:\\Users\\OM RAJ PANDEY\\Desktop\\desencending murder.csv\")\n",
    "df.head()"
   ]
  },
  {
   "cell_type": "markdown",
   "id": "83538146",
   "metadata": {},
   "source": [
    "## In the above data frame which districts are appear 3 or more then 3 times their data\n"
   ]
  },
  {
   "cell_type": "code",
   "execution_count": 6,
   "id": "0119258e",
   "metadata": {},
   "outputs": [
    {
     "data": {
      "text/html": [
       "<div>\n",
       "<style scoped>\n",
       "    .dataframe tbody tr th:only-of-type {\n",
       "        vertical-align: middle;\n",
       "    }\n",
       "\n",
       "    .dataframe tbody tr th {\n",
       "        vertical-align: top;\n",
       "    }\n",
       "\n",
       "    .dataframe thead th {\n",
       "        text-align: right;\n",
       "    }\n",
       "</style>\n",
       "<table border=\"1\" class=\"dataframe\">\n",
       "  <thead>\n",
       "    <tr style=\"text-align: right;\">\n",
       "      <th></th>\n",
       "      <th>district</th>\n",
       "      <th>count(district)</th>\n",
       "      <th>STATE/UT</th>\n",
       "      <th>Unnamed: 3</th>\n",
       "    </tr>\n",
       "  </thead>\n",
       "  <tbody>\n",
       "    <tr>\n",
       "      <th>0</th>\n",
       "      <td>ADILABAD</td>\n",
       "      <td>12</td>\n",
       "      <td>ANDHRA PRADESH</td>\n",
       "      <td>NaN</td>\n",
       "    </tr>\n",
       "    <tr>\n",
       "      <th>1</th>\n",
       "      <td>ANANTAPUR</td>\n",
       "      <td>12</td>\n",
       "      <td>ANDHRA PRADESH</td>\n",
       "      <td>NaN</td>\n",
       "    </tr>\n",
       "    <tr>\n",
       "      <th>2</th>\n",
       "      <td>CHITTOOR</td>\n",
       "      <td>12</td>\n",
       "      <td>ANDHRA PRADESH</td>\n",
       "      <td>NaN</td>\n",
       "    </tr>\n",
       "    <tr>\n",
       "      <th>3</th>\n",
       "      <td>CUDDAPAH</td>\n",
       "      <td>12</td>\n",
       "      <td>ANDHRA PRADESH</td>\n",
       "      <td>NaN</td>\n",
       "    </tr>\n",
       "    <tr>\n",
       "      <th>4</th>\n",
       "      <td>EAST GODAVARI</td>\n",
       "      <td>12</td>\n",
       "      <td>ANDHRA PRADESH</td>\n",
       "      <td>NaN</td>\n",
       "    </tr>\n",
       "    <tr>\n",
       "      <th>...</th>\n",
       "      <td>...</td>\n",
       "      <td>...</td>\n",
       "      <td>...</td>\n",
       "      <td>...</td>\n",
       "    </tr>\n",
       "    <tr>\n",
       "      <th>95</th>\n",
       "      <td>MUZAFFARPUR RLY.</td>\n",
       "      <td>12</td>\n",
       "      <td>BIHAR</td>\n",
       "      <td>NaN</td>\n",
       "    </tr>\n",
       "    <tr>\n",
       "      <th>96</th>\n",
       "      <td>NALANDA</td>\n",
       "      <td>12</td>\n",
       "      <td>BIHAR</td>\n",
       "      <td>NaN</td>\n",
       "    </tr>\n",
       "    <tr>\n",
       "      <th>97</th>\n",
       "      <td>NAUGACHIA</td>\n",
       "      <td>12</td>\n",
       "      <td>BIHAR</td>\n",
       "      <td>NaN</td>\n",
       "    </tr>\n",
       "    <tr>\n",
       "      <th>98</th>\n",
       "      <td>NAWADAH</td>\n",
       "      <td>12</td>\n",
       "      <td>BIHAR</td>\n",
       "      <td>NaN</td>\n",
       "    </tr>\n",
       "    <tr>\n",
       "      <th>99</th>\n",
       "      <td>PATNA</td>\n",
       "      <td>12</td>\n",
       "      <td>BIHAR</td>\n",
       "      <td>NaN</td>\n",
       "    </tr>\n",
       "  </tbody>\n",
       "</table>\n",
       "<p>100 rows × 4 columns</p>\n",
       "</div>"
      ],
      "text/plain": [
       "            district  count(district)        STATE/UT  Unnamed: 3\n",
       "0           ADILABAD               12  ANDHRA PRADESH         NaN\n",
       "1          ANANTAPUR               12  ANDHRA PRADESH         NaN\n",
       "2           CHITTOOR               12  ANDHRA PRADESH         NaN\n",
       "3           CUDDAPAH               12  ANDHRA PRADESH         NaN\n",
       "4      EAST GODAVARI               12  ANDHRA PRADESH         NaN\n",
       "..               ...              ...             ...         ...\n",
       "95  MUZAFFARPUR RLY.               12           BIHAR         NaN\n",
       "96           NALANDA               12           BIHAR         NaN\n",
       "97         NAUGACHIA               12           BIHAR         NaN\n",
       "98           NAWADAH               12           BIHAR         NaN\n",
       "99             PATNA               12           BIHAR         NaN\n",
       "\n",
       "[100 rows x 4 columns]"
      ]
     },
     "execution_count": 6,
     "metadata": {},
     "output_type": "execute_result"
    }
   ],
   "source": [
    "df=pd.read_csv(r\"C:\\Users\\OM RAJ PANDEY\\Desktop\\count district.csv\")\n",
    "df.head(100)"
   ]
  },
  {
   "cell_type": "code",
   "execution_count": null,
   "id": "8f5a393a",
   "metadata": {},
   "outputs": [],
   "source": []
  }
 ],
 "metadata": {
  "kernelspec": {
   "display_name": "Python 3 (ipykernel)",
   "language": "python",
   "name": "python3"
  },
  "language_info": {
   "codemirror_mode": {
    "name": "ipython",
    "version": 3
   },
   "file_extension": ".py",
   "mimetype": "text/x-python",
   "name": "python",
   "nbconvert_exporter": "python",
   "pygments_lexer": "ipython3",
   "version": "3.9.12"
  }
 },
 "nbformat": 4,
 "nbformat_minor": 5
}
